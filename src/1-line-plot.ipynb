{
 "cells": [
  {
   "cell_type": "markdown",
   "metadata": {},
   "source": [
    "### Exercise 1: Line Plot Customization"
   ]
  },
  {
   "cell_type": "code",
   "execution_count": null,
   "metadata": {},
   "outputs": [],
   "source": [
"import matplotlib.pyplot as plt
import numpy as np

# Generate x values from 0 to 10
x = np.arange(0, 11)

# Compute y values as the square of x
y = x ** 2

# Create the plot
plt.plot(x, y, marker='o', linestyle='-', color='b', label='y = x²')

# Add title and labels
plt.title('Square of X')
plt.xlabel('X Values')
plt.ylabel('Y Values (X²)')

# Add grid
plt.grid(True, linestyle='--', alpha=0.7)

# Show legend
plt.legend()

# Display the plot
plt.show()
"
   ]
  }
 ],
 "metadata": {
  "language_info": {
   "name": "python"
  }
 },
 "nbformat": 4,
 "nbformat_minor": 2
}
